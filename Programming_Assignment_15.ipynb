{
  "nbformat": 4,
  "nbformat_minor": 0,
  "metadata": {
    "colab": {
      "provenance": []
    },
    "kernelspec": {
      "name": "python3",
      "display_name": "Python 3"
    },
    "language_info": {
      "name": "python"
    }
  },
  "cells": [
    {
      "cell_type": "code",
      "execution_count": null,
      "metadata": {
        "id": "d8MJLSNjduqn"
      },
      "outputs": [],
      "source": [
        "#1. Please write a program using generator to print the numbers which can be divisible by 5 and 7 between 0 and n\n",
        "#in comma separated form while n is input by console."
      ]
    },
    {
      "cell_type": "code",
      "source": [
        "def generate_divisible_by_5_and_7(n):\n",
        "    for i in range(n + 1):\n",
        "        if i % 5 == 0 and i % 7 == 0:\n",
        "            yield i\n",
        "\n",
        "\n",
        "n = int(input(\"Enter a value for n: \"))\n",
        "\n",
        "result = generate_divisible_by_5_and_7(n)\n",
        "print(','.join(map(str, result)))\n"
      ],
      "metadata": {
        "id": "7ewieJbSeMEy",
        "colab": {
          "base_uri": "https://localhost:8080/"
        },
        "outputId": "bb60df8a-0918-4c9e-f800-059bdd632ee2"
      },
      "execution_count": 2,
      "outputs": [
        {
          "output_type": "stream",
          "name": "stdout",
          "text": [
            "Enter a value for n: 49\n",
            "0,35\n"
          ]
        }
      ]
    },
    {
      "cell_type": "code",
      "source": [
        "#2. Please write a program using generator to print the even numbers between 0 and n in comma separated form while n is input by console."
      ],
      "metadata": {
        "id": "Xfu45nymd0Ym"
      },
      "execution_count": null,
      "outputs": []
    },
    {
      "cell_type": "code",
      "source": [
        "def generate_even_numbers(n):\n",
        "    for i in range(n + 1):\n",
        "        if i % 2 == 0:\n",
        "            yield i\n",
        "\n",
        "\n",
        "n = int(input(\"Enter a value for n: \"))\n",
        "\n",
        "result = generate_even_numbers(n)\n",
        "print(','.join(map(str, result)))\n"
      ],
      "metadata": {
        "colab": {
          "base_uri": "https://localhost:8080/"
        },
        "id": "a_3EkbD1lD-u",
        "outputId": "5440f7ae-1003-4449-961f-1989f0f2065b"
      },
      "execution_count": 3,
      "outputs": [
        {
          "output_type": "stream",
          "name": "stdout",
          "text": [
            "Enter a value for n: 80\n",
            "0,2,4,6,8,10,12,14,16,18,20,22,24,26,28,30,32,34,36,38,40,42,44,46,48,50,52,54,56,58,60,62,64,66,68,70,72,74,76,78,80\n"
          ]
        }
      ]
    },
    {
      "cell_type": "code",
      "source": [
        "#3. Please write a program using list comprehension to print the Fibonacci Sequence in comma separated form with a given n input by console."
      ],
      "metadata": {
        "id": "PWtutVwYd7Uc"
      },
      "execution_count": null,
      "outputs": []
    },
    {
      "cell_type": "code",
      "source": [
        "def fibonacci_sequence(n):\n",
        "    fib_sequence = [0, 1]\n",
        "    for i in range(2, n):\n",
        "        fib_sequence.append(fib_sequence[i-1] + fib_sequence[i-2])\n",
        "    return fib_sequence[:n]\n",
        "\n",
        "\n",
        "n = int(input(\"Enter the number of terms for the Fibonacci Sequence: \"))\n",
        "result = fibonacci_sequence(n)\n",
        "print(','.join(map(str, result)))\n",
        "\n"
      ],
      "metadata": {
        "colab": {
          "base_uri": "https://localhost:8080/"
        },
        "id": "hr_xpBpElSke",
        "outputId": "d38e8586-5d64-493f-e93c-96ac153a886f"
      },
      "execution_count": 7,
      "outputs": [
        {
          "output_type": "stream",
          "name": "stdout",
          "text": [
            "Enter the number of terms for the Fibonacci Sequence: 20\n",
            "0,1,1,2,3,5,8,13,21,34,55,89,144,233,377,610,987,1597,2584,4181\n"
          ]
        }
      ]
    },
    {
      "cell_type": "code",
      "source": [
        "#4. Assuming that we have some email addresses in the \"username@companyname.com\" format, please write program to\n",
        "#print the user name of a given email address. Both user names and company names are composed of letters only."
      ],
      "metadata": {
        "id": "NJnj4IL0d-T8"
      },
      "execution_count": null,
      "outputs": []
    },
    {
      "cell_type": "code",
      "source": [
        "import re\n",
        "\n",
        "def extract_username(email):\n",
        "\n",
        "    pattern = r\"([a-zA-Z]+)@([a-zA-Z]+)\\.com\"\n",
        "    match = re.match(pattern, email)\n",
        "    if match:\n",
        "        return match.group(1)\n",
        "    else:\n",
        "        return \"Invalid email format\"\n",
        "\n",
        "\n",
        "email_address = input(\"Enter an email address in the 'username@companyname.com' format: \")\n",
        "username = extract_username(email_address)\n",
        "print(\"Username:\", username)\n"
      ],
      "metadata": {
        "colab": {
          "base_uri": "https://localhost:8080/"
        },
        "id": "K5Z9HRaJl1Wm",
        "outputId": "4feeb2c1-cae2-4430-e3d5-952b50e72ffb"
      },
      "execution_count": 8,
      "outputs": [
        {
          "output_type": "stream",
          "name": "stdout",
          "text": [
            "Enter an email address in the 'username@companyname.com' format: sheetal@nwteams.com\n",
            "Username: sheetal\n"
          ]
        }
      ]
    },
    {
      "cell_type": "code",
      "source": [
        "#5. Define a class named Shape and its subclass Square. The Square class has an init function which\n",
        "#takes a length as argument. Both classes have a area function which can print the area of the shape where Shape's area is 0 by default."
      ],
      "metadata": {
        "id": "ninD6Ce7eEZ_"
      },
      "execution_count": null,
      "outputs": []
    },
    {
      "cell_type": "code",
      "source": [
        "class Shape:\n",
        "    def __init__(self):\n",
        "        pass\n",
        "\n",
        "    def area(self):\n",
        "        return 0\n",
        "\n",
        "class Square(Shape):\n",
        "    def __init__(self, length):\n",
        "        super().__init__()\n",
        "        self.length = length\n",
        "\n",
        "    def area(self):\n",
        "        return self.length * self.length\n",
        "\n",
        "\n",
        "shape_obj = Shape()\n",
        "print(\"Area of Shape:\", shape_obj.area())\n",
        "\n",
        "square_obj = Square(5)\n",
        "print(\"Area of Square:\", square_obj.area())\n"
      ],
      "metadata": {
        "id": "3id11-rpeJZH",
        "colab": {
          "base_uri": "https://localhost:8080/"
        },
        "outputId": "ea43a59e-a95f-4104-ce61-e1151ee33ff2"
      },
      "execution_count": 1,
      "outputs": [
        {
          "output_type": "stream",
          "name": "stdout",
          "text": [
            "Area of Shape: 0\n",
            "Area of Square: 25\n"
          ]
        }
      ]
    },
    {
      "cell_type": "code",
      "source": [],
      "metadata": {
        "id": "hRj-0PaQkY2d"
      },
      "execution_count": null,
      "outputs": []
    }
  ]
}